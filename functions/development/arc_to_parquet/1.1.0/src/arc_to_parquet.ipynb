{
 "cells": [
  {
   "cell_type": "markdown",
   "metadata": {},
   "source": [
    "# Archive to parquet function Example\n",
    "> the arc_to_parquet function is typically for large files, the function accept an input of archive and stores the data into a file system.\n",
    "in the example we will use arc_to_parquet function to unarchive the higgs-sample data-file stored on s3,\n",
    "and will store it on the local file system in parquet format , "
   ]
  },
  {
   "cell_type": "code",
   "execution_count": 7,
   "metadata": {},
   "outputs": [],
   "source": [
    "# import packages\n",
    "import mlrun\n",
    "from mlrun import import_function"
   ]
  },
  {
   "cell_type": "code",
   "execution_count": 8,
   "metadata": {},
   "outputs": [],
   "source": [
    "# declare the dataset\n",
    "DATA_URL = \"https://s3.wasabisys.com/iguazio/data/market-palce/arc_to_parquet/higgs-sample.csv.gz\""
   ]
  },
  {
   "cell_type": "code",
   "execution_count": 9,
   "metadata": {},
   "outputs": [],
   "source": [
    "# import the function\n",
    "arc_to_parquet_function = import_function(\"hub://arc_to_parquet\").apply(mlrun.platforms.auto_mount())"
   ]
  },
  {
   "cell_type": "code",
   "execution_count": null,
   "metadata": {},
   "outputs": [],
   "source": [
    "# run the function\n",
    "arc_to_parquet_run = arc_to_parquet_function.run(params={\"key\": \"higgs-sample\"},\n",
    "           handler=\"arc_to_parquet\",\n",
    "           inputs={\"archive_url\": DATA_URL}\n",
    "           )\n",
    "    "
   ]
  },
  {
   "cell_type": "markdown",
   "metadata": {},
   "source": [
    "### Show the results"
   ]
  },
  {
   "cell_type": "code",
   "execution_count": null,
   "metadata": {},
   "outputs": [],
   "source": [
    "arc_to_parquet_run.artifact('higgs-sample').show()\n"
   ]
  },
  {
   "cell_type": "code",
   "execution_count": null,
   "metadata": {},
   "outputs": [],
   "source": []
  }
 ],
 "metadata": {
  "kernelspec": {
   "display_name": "Python 3",
   "language": "python",
   "name": "python3"
  },
  "language_info": {
   "codemirror_mode": {
    "name": "ipython",
    "version": 3
   },
   "file_extension": ".py",
   "mimetype": "text/x-python",
   "name": "python",
   "nbconvert_exporter": "python",
   "pygments_lexer": "ipython3",
   "version": "3.7.6"
  }
 },
 "nbformat": 4,
 "nbformat_minor": 4
}
