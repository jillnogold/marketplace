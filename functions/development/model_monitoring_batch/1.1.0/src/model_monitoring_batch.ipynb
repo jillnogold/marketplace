{
 "cells": [
  {
   "cell_type": "markdown",
   "source": [
    "# Model Monitoring\n",
    "## Export function yaml"
   ],
   "metadata": {
    "collapsed": false
   }
  },
  {
   "cell_type": "code",
   "execution_count": null,
   "metadata": {
    "collapsed": true
   },
   "outputs": [],
   "source": [
    "from mlrun import code_to_function\n",
    "from mlrun.runtimes import RemoteRuntime\n",
    "\n",
    "fn: RemoteRuntime = code_to_function(\n",
    "    name=\"model-monitoring-batch\",\n",
    "    kind=\"job\",\n",
    "    image=\"mlrun/mlrun\",\n",
    "    filename=\"model_monitoring_batch.py\",\n",
    "    handler=\"handler\",\n",
    ")\n",
    "\n",
    "fn.export(\"model_monitoring_batch.yaml\")"
   ]
  },
  {
   "cell_type": "markdown",
   "source": [
    "## Deploy Batch Processing"
   ],
   "metadata": {
    "collapsed": false
   }
  },
  {
   "cell_type": "code",
   "execution_count": null,
   "outputs": [],
   "source": [
    "from mlrun import import_function\n",
    "from mlrun.platforms import mount_v3io\n",
    "from mlrun.runtimes import KubejobRuntime\n",
    "\n",
    "\n",
    "# Set project name\n",
    "project = \"\"\n",
    "\n",
    "fn: KubejobRuntime = import_function(\"hub://model_monitoring_batch\")\n",
    "fn.metadata.project = project\n",
    "fn.apply(mount_v3io())\n",
    "fn.run(name='model-monitoring-batch', schedule=\"0 */1 * * *\", params={\"project\": project})"
   ],
   "metadata": {
    "collapsed": false,
    "pycharm": {
     "name": "#%%\n"
    }
   }
  }
 ],
 "metadata": {
  "kernelspec": {
   "display_name": "Python 3",
   "language": "python",
   "name": "python3"
  },
  "language_info": {
   "codemirror_mode": {
    "name": "ipython",
    "version": 2
   },
   "file_extension": ".py",
   "mimetype": "text/x-python",
   "name": "python",
   "nbconvert_exporter": "python",
   "pygments_lexer": "ipython2",
   "version": "2.7.6"
  }
 },
 "nbformat": 4,
 "nbformat_minor": 0
}