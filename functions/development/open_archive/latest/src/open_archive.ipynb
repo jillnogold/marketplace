{
 "cells": [
  {
   "cell_type": "markdown",
   "metadata": {},
   "source": [
    "# Open Archive\n",
    "\n",
    "Open a file/object archive into a target directory"
   ]
  },
  {
   "cell_type": "markdown",
   "metadata": {},
   "source": [
    "### Parameters\n",
    "\n",
    "* **`context`**: `mlrun.MLClientCtx` - function execution context\n",
    "* **`archive_url`**: `str` - url of archive file\n",
    "* **`subdir`**: `str` - path within artifact store where extracted files are stored\n",
    "* **`key`**: `str` - key of archive contents in artifact store\n",
    "* **`target_path`**: `str` - file system path to store extracted files"
   ]
  },
  {
   "cell_type": "markdown",
   "metadata": {},
   "source": [
    "### Usage"
   ]
  },
  {
   "cell_type": "code",
   "execution_count": 10,
   "metadata": {},
   "outputs": [
    {
     "name": "stdout",
     "output_type": "stream",
     "text": [
      "> 2022-11-24 09:53:14,477 [info] loaded project function-marketplace from MLRun DB\n"
     ]
    }
   ],
   "source": [
    "import mlrun\n",
    "import os\n",
    "\n",
    "project_name = \"function-marketplace\"\n",
    "project = mlrun.get_or_create_project(project_name, context=\"./\", user_project=False)"
   ]
  },
  {
   "cell_type": "code",
   "execution_count": null,
   "metadata": {
    "tags": []
   },
   "outputs": [],
   "source": [
    "# Declaring our zip target url\n",
    "ARCHIVE_URL = \"https://s3.wasabisys.com/iguazio/data/cats-vs-dogs/cats-vs-dogs-labeling-demo.zip\"\n",
    "TARGET_PATH = os.path.join(os.getcwd(),'content/')\n",
    "\n",
    "# Import, mount & run\n",
    "fn = mlrun.import_function(\"hub://open_archive\")\n",
    "\n",
    "fn.apply(mlrun.auto_mount())\n",
    "if os.getenv('MLRUN_CE','False')=='False':\n",
    "    fn.spec.disable_auto_mount=False\n",
    "    \n",
    "run = fn.run(inputs={'archive_url': ARCHIVE_URL},\n",
    "             params={'key': 'test_archive',\n",
    "                     'target_path': TARGET_PATH})"
   ]
  },
  {
   "cell_type": "markdown",
   "metadata": {},
   "source": [
    "### Inspecting outputs"
   ]
  },
  {
   "cell_type": "code",
   "execution_count": null,
   "metadata": {},
   "outputs": [],
   "source": [
    "print(\"Artifact URL : \", run.artifact('test_archive').url)\n",
    "\n",
    "# getting folder size\n",
    "size = 0\n",
    "# get size\n",
    "for path, dirs, files in os.walk(TARGET_PATH):\n",
    "    for f in files:\n",
    "        fp = os.path.join(path, f)\n",
    "        size += os.stat(fp).st_size\n",
    "        \n",
    "print(\"Extracted folder size : \", size)\n",
    "\n",
    "# Deleting folder\n",
    "import shutil\n",
    "shutil.rmtree(TARGET_PATH + '/data')"
   ]
  }
 ],
 "metadata": {
  "kernelspec": {
   "display_name": "Python 3",
   "language": "python",
   "name": "python3"
  },
  "language_info": {
   "codemirror_mode": {
    "name": "ipython",
    "version": 3
   },
   "file_extension": ".py",
   "mimetype": "text/x-python",
   "name": "python",
   "nbconvert_exporter": "python",
   "pygments_lexer": "ipython3",
   "version": "3.7.6"
  }
 },
 "nbformat": 4,
 "nbformat_minor": 4
}
