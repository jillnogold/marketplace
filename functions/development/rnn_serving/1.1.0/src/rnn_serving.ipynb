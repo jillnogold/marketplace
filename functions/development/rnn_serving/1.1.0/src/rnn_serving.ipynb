{
 "cells": [
  {
   "cell_type": "markdown",
   "metadata": {},
   "source": [
    "# **RNN Serving**"
   ]
  },
  {
   "cell_type": "markdown",
   "metadata": {},
   "source": [
    "The following section we create a new model serving function which wraps our class , and specify model and other resources. <br>\n",
    "Deploying the serving function will provide us an http endpoint that can handle requests in real time. <br>\n",
    "This function is part of the [stock-analysis demo](https://github.com/mlrun/demos/tree/master/stock-analysis).<br>\n",
    "To see how the model is trained or how the data-set is generated, check out code folder in the demo repository."
   ]
  },
  {
   "cell_type": "markdown",
   "metadata": {},
   "source": [
    "### **Steps**\n",
    "\n",
    "1. [Setup function parameters](#Setup-function-parameters)\n",
    "2. [Importing the function](#Importing-the-function)\n",
    "3. [Testing the function locally](#Testing-the-function-locally)\n",
    "4. [Testing the function remotely](#Testing-the-function-remotely)"
   ]
  },
  {
   "cell_type": "code",
   "execution_count": 1,
   "metadata": {},
   "outputs": [],
   "source": [
    "import warnings\n",
    "warnings.filterwarnings(\"ignore\")"
   ]
  },
  {
   "cell_type": "code",
   "execution_count": 2,
   "metadata": {},
   "outputs": [],
   "source": [
    "# Following packages are required, make sure to install\n",
    "# !pip install pip install torch==1.6.0\n",
    "# !pip install tensorflow\n",
    "# !pip install keras"
   ]
  },
  {
   "cell_type": "markdown",
   "metadata": {},
   "source": [
    "### **Setup function parameters**"
   ]
  },
  {
   "cell_type": "code",
   "execution_count": 3,
   "metadata": {},
   "outputs": [],
   "source": [
    "# Setting up models path\n",
    "rnn_model_path = 'https://s3.wasabisys.com/iguazio/models/function-marketplace-models/rnn_serving/rnn_model.h5'\n",
    "data_path = 'https://s3.wasabisys.com/iguazio/data/function-marketplace-data/rnn_serving/stocks_data.pkl'"
   ]
  },
  {
   "cell_type": "markdown",
   "metadata": {},
   "source": [
    "### **Importing the function**"
   ]
  },
  {
   "cell_type": "code",
   "execution_count": 4,
   "metadata": {},
   "outputs": [
    {
     "name": "stdout",
     "output_type": "stream",
     "text": [
      "> 2021-10-17 10:43:46,363 [info] loaded project function-marketplace from MLRun DB\n"
     ]
    },
    {
     "data": {
      "text/plain": [
       "<mlrun.serving.states.TaskStep at 0x7fb59c8fa2d0>"
      ]
     },
     "execution_count": 4,
     "metadata": {},
     "output_type": "execute_result"
    }
   ],
   "source": [
    "import mlrun\n",
    "mlrun.set_environment(project='function-marketplace')\n",
    "\n",
    "# Importing the function from the hub\n",
    "fn = mlrun.import_function(\"hub://rnn_serving\")\n",
    "fn.apply(mlrun.auto_mount())\n",
    "\n",
    "# Manually specifying needed packages \n",
    "fn.spec.build.commands = ['pip install torch==1.6.0', 'pip install tensorflow', 'pip install keras']\n",
    "\n",
    "# Adding the model \n",
    "fn.add_model(key='rnn_model', model_path=rnn_model_path ,class_name='RNN_Model_Serving')"
   ]
  },
  {
   "cell_type": "markdown",
   "metadata": {},
   "source": [
    "### **Testing the function locally**"
   ]
  },
  {
   "cell_type": "code",
   "execution_count": 5,
   "metadata": {},
   "outputs": [
    {
     "name": "stdout",
     "output_type": "stream",
     "text": [
      "> 2021-10-17 10:43:54,256 [info] model rnn_model was loaded\n",
      "> 2021-10-17 10:43:54,257 [info] Initializing endpoint records\n",
      "> 2021-10-17 10:43:54,276 [info] Loaded ['rnn_model']\n"
     ]
    }
   ],
   "source": [
    "# When mocking, class has to be present\n",
    "from rnn_serving import *\n",
    "\n",
    "# Mocking function\n",
    "server = fn.to_mock_server()"
   ]
  },
  {
   "cell_type": "code",
   "execution_count": 6,
   "metadata": {},
   "outputs": [],
   "source": [
    "# Getting the data\n",
    "import cloudpickle as cp\n",
    "from urllib.request import urlopen\n",
    "\n",
    "rnn_data = cp.load(urlopen(data_path))"
   ]
  },
  {
   "cell_type": "markdown",
   "metadata": {},
   "source": [
    "model used in this example take inputs with the shape `(None, None, 11)`. <br>\n",
    "whereas the first dimenstion is the number of instances, the second dimenstion is the number of timestamps<br>\n",
    "and the last dimenstion is the number of features the dataset have.<br>\n",
    "our testing dataset has `(1,10,11)` means one instance to predict, with sequence length of 10, each step has 11 features."
   ]
  },
  {
   "cell_type": "code",
   "execution_count": 8,
   "metadata": {},
   "outputs": [
    {
     "data": {
      "text/plain": [
       "{'id': '1bf6a3dc4d204e6e8bfd5834f5d691f1',\n",
       " 'model_name': 'rnn_model',\n",
       " 'outputs': '[[0.43563252687454224]]'}"
      ]
     },
     "execution_count": 8,
     "metadata": {},
     "output_type": "execute_result"
    }
   ],
   "source": [
    "import requests\n",
    "\n",
    "# KFServing protocol event\n",
    "event_data = {\"inputs\": rnn_data}\n",
    "\n",
    "response = server.test(path='/v2/models/rnn_model/predict',body=event_data)\n",
    "response"
   ]
  },
  {
   "cell_type": "markdown",
   "metadata": {},
   "source": [
    "### **Testing the function remotely**"
   ]
  },
  {
   "cell_type": "code",
   "execution_count": 9,
   "metadata": {},
   "outputs": [
    {
     "name": "stdout",
     "output_type": "stream",
     "text": [
      "> 2021-10-17 10:43:57,192 [info] Starting remote function deploy\n",
      "2021-10-17 10:43:57  (info) Deploying function\n",
      "2021-10-17 10:43:57  (info) Building\n",
      "2021-10-17 10:43:57  (info) Staging files and preparing base images\n",
      "2021-10-17 10:43:57  (info) Building processor image\n",
      "2021-10-17 10:43:58  (info) Build complete\n",
      "2021-10-17 10:44:10  (info) Function deploy complete\n",
      "> 2021-10-17 10:44:11,677 [info] successfully deployed function: {'internal_invocation_urls': ['nuclio-function-marketplace-rnn-serving.default-tenant.svc.cluster.local:8080'], 'external_invocation_urls': ['default-tenant.app.dev39.lab.iguazeng.com:30255']}\n"
     ]
    }
   ],
   "source": [
    "address = fn.deploy()"
   ]
  },
  {
   "cell_type": "code",
   "execution_count": 10,
   "metadata": {},
   "outputs": [
    {
     "data": {
      "text/plain": [
       "{'id': '1bf6a3dc4d204e6e8bfd5834f5d691f1',\n",
       " 'model_name': 'rnn_model',\n",
       " 'outputs': '[[0.43563252687454224]]'}"
      ]
     },
     "execution_count": 10,
     "metadata": {},
     "output_type": "execute_result"
    }
   ],
   "source": [
    "import json\n",
    "import requests\n",
    "\n",
    "# using requests to predict\n",
    "response = requests.put(address+\"/v2/models/rnn_model/predict\", json = json.dumps(event_data))\n",
    "json.loads(response.text)"
   ]
  },
  {
   "cell_type": "markdown",
   "metadata": {},
   "source": [
    "[Back to the top](#RNN-Serving)"
   ]
  }
 ],
 "metadata": {
  "kernelspec": {
   "display_name": "Python 3",
   "language": "python",
   "name": "python3"
  },
  "language_info": {
   "codemirror_mode": {
    "name": "ipython",
    "version": 3
   },
   "file_extension": ".py",
   "mimetype": "text/x-python",
   "name": "python",
   "nbconvert_exporter": "python",
   "pygments_lexer": "ipython3",
   "version": "3.7.6"
  }
 },
 "nbformat": 4,
 "nbformat_minor": 4
}
